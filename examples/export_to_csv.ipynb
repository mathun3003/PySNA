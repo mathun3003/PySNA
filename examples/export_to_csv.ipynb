{
 "cells": [
  {
   "cell_type": "code",
   "execution_count": 1,
   "metadata": {},
   "outputs": [],
   "source": [
    "import os\n",
    "from dotenv import load_dotenv\n",
    "from pysna import *\n",
    "\n",
    "# load envs\n",
    "load_dotenv(\"../local.env\")\n",
    "# init API instance\n",
    "api = TwitterAPI(os.getenv(\"BEARER_TOKEN\"), os.getenv(\"CONSUMER_KEY\"), os.getenv(\"CONSUMER_SECRET\"), os.getenv(\"ACCESS_TOKEN\"), os.getenv(\"ACCESS_TOKEN_SECRET\"))"
   ]
  },
  {
   "cell_type": "code",
   "execution_count": 2,
   "metadata": {},
   "outputs": [],
   "source": [
    "# request results for user information, return timestamp\n",
    "results = api.user_info(\"WWU_Muenster\", [\"id\", \"location\", \"friends_count\", \"followers_count\", \"last_active\", \"statuses_count\"], return_timestamp=True)\n",
    "# export to CSV file\n",
    "export_to_csv(results, export_path=\"resources/user_info.csv\")"
   ]
  }
 ],
 "metadata": {
  "kernelspec": {
   "display_name": ".venv",
   "language": "python",
   "name": "python3"
  },
  "language_info": {
   "codemirror_mode": {
    "name": "ipython",
    "version": 3
   },
   "file_extension": ".py",
   "mimetype": "text/x-python",
   "name": "python",
   "nbconvert_exporter": "python",
   "pygments_lexer": "ipython3",
   "version": "3.10.0"
  },
  "orig_nbformat": 4,
  "vscode": {
   "interpreter": {
    "hash": "ed44555fa394b0c2229d53d90121f58c473627b0aabc94f1252421ca1f5860cb"
   }
  }
 },
 "nbformat": 4,
 "nbformat_minor": 2
}
