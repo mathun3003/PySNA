{
 "cells": [
  {
   "cell_type": "code",
   "execution_count": 1,
   "metadata": {},
   "outputs": [
    {
     "data": {
      "text/plain": [
       "True"
      ]
     },
     "execution_count": 1,
     "metadata": {},
     "output_type": "execute_result"
    }
   ],
   "source": [
    "# for testing\n",
    "import os\n",
    "from dotenv import load_dotenv\n",
    "\n",
    "PROJECT_ROOT = os.path.abspath(os.path.join(os.path.dirname(__vsc_ipynb_file__), os.pardir))\n",
    "os.chdir(PROJECT_ROOT)\n",
    "\n",
    "load_dotenv(\"local.env\")"
   ]
  },
  {
   "cell_type": "code",
   "execution_count": 2,
   "metadata": {},
   "outputs": [],
   "source": [
    "from pysna import TwitterAPI, TwitterAppAuthHandler\n",
    "\n",
    "auth = TwitterAppAuthHandler(os.getenv(\"CONSUMER_KEY\"), os.getenv(\"CONSUMER_SECRET\"))\n",
    "api = TwitterAPI(auth)"
   ]
  },
  {
   "cell_type": "code",
   "execution_count": 7,
   "metadata": {},
   "outputs": [],
   "source": [
    "comparison_results = api.compare_users(user1=\"Twitter\", user2=\"YouTube\", compare=\"created_at\")"
   ]
  },
  {
   "cell_type": "code",
   "execution_count": 8,
   "metadata": {},
   "outputs": [
    {
     "data": {
      "text/plain": [
       "{'time_difference_in_seconds': 23008072.0,\n",
       " 'time_difference_in_days': 266.0,\n",
       " 'time_difference_in_weeks': 38.0,\n",
       " 'time_difference_in_hours': 6391.0}"
      ]
     },
     "execution_count": 8,
     "metadata": {},
     "output_type": "execute_result"
    }
   ],
   "source": [
    "comparison_results"
   ]
  }
 ],
 "metadata": {
  "kernelspec": {
   "display_name": ".venv",
   "language": "python",
   "name": "python3"
  },
  "language_info": {
   "codemirror_mode": {
    "name": "ipython",
    "version": 3
   },
   "file_extension": ".py",
   "mimetype": "text/x-python",
   "name": "python",
   "nbconvert_exporter": "python",
   "pygments_lexer": "ipython3",
   "version": "3.10.0"
  },
  "orig_nbformat": 4,
  "vscode": {
   "interpreter": {
    "hash": "ed44555fa394b0c2229d53d90121f58c473627b0aabc94f1252421ca1f5860cb"
   }
  }
 },
 "nbformat": 4,
 "nbformat_minor": 2
}
