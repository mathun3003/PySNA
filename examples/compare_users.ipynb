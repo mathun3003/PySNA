{
 "cells": [
  {
   "cell_type": "code",
   "execution_count": 4,
   "metadata": {},
   "outputs": [],
   "source": [
    "import os\n",
    "from dotenv import load_dotenv\n",
    "from typing import get_args\n",
    "\n",
    "from pysna import TwitterAPI\n",
    "\n",
    "# load envs\n",
    "load_dotenv(\"../local.env\")\n",
    "# init API instance\n",
    "api = TwitterAPI(os.getenv(\"BEARER_TOKEN\"), os.getenv(\"CONSUMER_KEY\"), os.getenv(\"CONSUMER_SECRET\"), os.getenv(\"ACCESS_TOKEN\"), os.getenv(\"ACCESS_TOKEN_SECRET\"))"
   ]
  },
  {
   "cell_type": "code",
   "execution_count": 5,
   "metadata": {},
   "outputs": [
    {
     "data": {
      "text/plain": [
       "typing.Literal['relationship', 'followers_count', 'followees_count', 'tweets_count', 'favourites_count', 'common_followers', 'distinct_followers', 'common_followees', 'distinct_followees', 'similarity', 'created_at', 'protected', 'verified']"
      ]
     },
     "execution_count": 5,
     "metadata": {},
     "output_type": "execute_result"
    }
   ],
   "source": [
    "# available attributes for 'compare_users()'\n",
    "api.LITERALS_COMPARE_USERS"
   ]
  },
  {
   "cell_type": "code",
   "execution_count": 6,
   "metadata": {},
   "outputs": [
    {
     "data": {
      "text/plain": [
       "{'created_at': {'WWU_Muenster': '2009-03-16T11:19:30+00:00',\n",
       "  'goetheuni': '2009-05-06T13:49:31+00:00',\n",
       "  'UniKonstanz': '2010-06-27T19:10:20+00:00',\n",
       "  'metrics': {'deviation_from_mean': {'WWU_Muenster': {'days': -174,\n",
       "     'seconds': 73983},\n",
       "    'goetheuni': {'days': -123, 'seconds': 82984},\n",
       "    'UniKonstanz': {'days': 295, 'seconds': 15833}},\n",
       "   'deviation_from_median': {'WWU_Muenster': {'days': -52, 'seconds': 77399},\n",
       "    'goetheuni': {'days': 0, 'seconds': 0},\n",
       "    'UniKonstanz': {'days': 417, 'seconds': 19249}},\n",
       "   'time_span': {'days': 468, 'seconds': 28250, 'microseconds': 0},\n",
       "   'mean': '2009-09-05T14:46:27+00:00',\n",
       "   'median': '2009-05-06T13:49:31+00:00',\n",
       "   'max': '2010-06-27T19:10:20+00:00',\n",
       "   'min': '2009-03-16T11:19:30+00:00'}},\n",
       " 'utc_timestamp': '2023-01-23 11:46:14.679965'}"
      ]
     },
     "execution_count": 6,
     "metadata": {},
     "output_type": "execute_result"
    }
   ],
   "source": [
    "# compare creation dates\n",
    "api.compare_users([\"WWU_Muenster\", \"goetheuni\", \"UniKonstanz\"], compare=\"created_at\", return_timestamp=True)"
   ]
  },
  {
   "cell_type": "code",
   "execution_count": 7,
   "metadata": {},
   "outputs": [
    {
     "data": {
      "text/plain": [
       "{'followers_count': {'WWU_Muenster': 20057,\n",
       "  'goetheuni': 24749,\n",
       "  'UniKonstanz': 12194,\n",
       "  'metrics': {'max': 24749,\n",
       "   'min': 12194,\n",
       "   'mean': 19000.0,\n",
       "   'median': 20057.0,\n",
       "   'std': 5179.764666468931,\n",
       "   'var': 26829962.0,\n",
       "   'range': 12555,\n",
       "   'IQR': 6277.5,\n",
       "   'mad': 4537.333333333333}},\n",
       " 'followees_count': {'WWU_Muenster': 1788,\n",
       "  'goetheuni': 217,\n",
       "  'UniKonstanz': 2270,\n",
       "  'metrics': {'max': 2270,\n",
       "   'min': 217,\n",
       "   'mean': 1425.0,\n",
       "   'median': 1788.0,\n",
       "   'std': 876.5572808816698,\n",
       "   'var': 768352.6666666666,\n",
       "   'range': 2053,\n",
       "   'IQR': 1026.5,\n",
       "   'mad': 805.3333333333334}},\n",
       " 'utc_timestamp': '2023-01-23 11:46:16.375138'}"
      ]
     },
     "execution_count": 7,
     "metadata": {},
     "output_type": "execute_result"
    }
   ],
   "source": [
    "# compare number of followers and followees\n",
    "api.compare_users([\"WWU_Muenster\", \"goetheuni\", \"UniKonstanz\"], compare=[\"followers_count\", \"followees_count\"], return_timestamp=True)"
   ]
  },
  {
   "cell_type": "code",
   "execution_count": 9,
   "metadata": {},
   "outputs": [
    {
     "data": {
      "text/plain": [
       "{'tweets_count': {'WWU_Muenster': 11625,\n",
       "  'goetheuni': 7197,\n",
       "  'UniKonstanz': 9789,\n",
       "  'metrics': {'max': 11625,\n",
       "   'min': 7197,\n",
       "   'mean': 9537.0,\n",
       "   'median': 9789.0,\n",
       "   'std': 1816.4845168621725,\n",
       "   'var': 3299616.0,\n",
       "   'range': 4428,\n",
       "   'IQR': 2214.0,\n",
       "   'mad': 1560.0}},\n",
       " 'favourites_count': {'WWU_Muenster': 2976,\n",
       "  'goetheuni': 1349,\n",
       "  'UniKonstanz': 7887,\n",
       "  'metrics': {'max': 7887,\n",
       "   'min': 1349,\n",
       "   'mean': 4070.6666666666665,\n",
       "   'median': 2976.0,\n",
       "   'std': 2779.098454935021,\n",
       "   'var': 7723388.222222221,\n",
       "   'range': 6538,\n",
       "   'IQR': 3269.0,\n",
       "   'mad': 2544.222222222222}},\n",
       " 'utc_timestamp': '2023-01-23 11:46:38.611136'}"
      ]
     },
     "execution_count": 9,
     "metadata": {},
     "output_type": "execute_result"
    }
   ],
   "source": [
    "# comapre number of Tweets and likes\n",
    "api.compare_users([\"WWU_Muenster\", \"goetheuni\", \"UniKonstanz\"], compare=[\"tweets_count\", \"favourites_count\"], return_timestamp=True)"
   ]
  },
  {
   "cell_type": "code",
   "execution_count": 14,
   "metadata": {},
   "outputs": [
    {
     "data": {
      "text/plain": [
       "{'protected': {'WWU_Muenster': False,\n",
       "  'goetheuni': False,\n",
       "  'UniKonstanz': False},\n",
       " 'verified': {'WWU_Muenster': False, 'goetheuni': True, 'UniKonstanz': False}}"
      ]
     },
     "execution_count": 14,
     "metadata": {},
     "output_type": "execute_result"
    }
   ],
   "source": [
    "# compare if users are protected and verified\n",
    "api.compare_users([\"WWU_Muenster\", \"goetheuni\", \"UniKonstanz\"], compare=[\"protected\", \"verified\"])"
   ]
  },
  {
   "cell_type": "code",
   "execution_count": 20,
   "metadata": {},
   "outputs": [
    {
     "data": {
      "text/plain": [
       "{'similarity': {('WWU_Muenster', 'goetheuni'): 4948.022837457402,\n",
       "  ('WWU_Muenster', 'UniKonstanz'): 7880.584622983247,\n",
       "  ('goetheuni', 'UniKonstanz'): 12723.41424304027},\n",
       " 'utc_timestamp': '2023-01-23 12:06:02.880787'}"
      ]
     },
     "execution_count": 20,
     "metadata": {},
     "output_type": "execute_result"
    }
   ],
   "source": [
    "# get similarity for each pair of users based on defined feature vector\n",
    "api.compare_users([\"WWU_Muenster\", \"goetheuni\", \"UniKonstanz\"], \n",
    "                  compare=\"similarity\", \n",
    "                  features=[\"followers_count\", \"friends_count\", \"listed_count\"],\n",
    "                  return_timestamp=True)"
   ]
  },
  {
   "cell_type": "code",
   "execution_count": null,
   "metadata": {},
   "outputs": [],
   "source": [
    "# get the relationship between each pair of Twitter users\n",
    "api.compare_users([\"WWU_Muenster\", \"goetheuni\", \"UniKonstanz\"], compare=\"relationship\")"
   ]
  },
  {
   "cell_type": "code",
   "execution_count": null,
   "metadata": {},
   "outputs": [],
   "source": [
    "# get common and distinct followers of each user\n",
    "api.compare_users([\"WWU_Muenster\", \"goetheuni\", \"UniKonstanz\"], compare=[\"common_followers\", \"distinct_followers\"])"
   ]
  },
  {
   "cell_type": "code",
   "execution_count": null,
   "metadata": {},
   "outputs": [],
   "source": [
    "# get common and distinct followees of each user\n",
    "api.compare_users([\"WWU_Muenster\", \"goetheuni\", \"UniKonstanz\"], compare=[\"common_followees\", \"distinct_followees\"])"
   ]
  }
 ],
 "metadata": {
  "kernelspec": {
   "display_name": ".venv",
   "language": "python",
   "name": "python3"
  },
  "language_info": {
   "codemirror_mode": {
    "name": "ipython",
    "version": 3
   },
   "file_extension": ".py",
   "mimetype": "text/x-python",
   "name": "python",
   "nbconvert_exporter": "python",
   "pygments_lexer": "ipython3",
   "version": "3.10.0 (tags/v3.10.0:b494f59, Oct  4 2021, 19:00:18) [MSC v.1929 64 bit (AMD64)]"
  },
  "orig_nbformat": 4,
  "vscode": {
   "interpreter": {
    "hash": "645bf1517ca72a79a533be0bf333be8252d202c7c0eef9a8cc060f3ddca7d451"
   }
  }
 },
 "nbformat": 4,
 "nbformat_minor": 2
}
