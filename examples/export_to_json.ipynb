{
 "cells": [
  {
   "cell_type": "code",
   "execution_count": 1,
   "metadata": {},
   "outputs": [],
   "source": [
    "import os\n",
    "from dotenv import load_dotenv\n",
    "from pysna import *\n",
    "\n",
    "# load envs\n",
    "load_dotenv(\"../local.env\")\n",
    "# init API instance\n",
    "api = TwitterAPI(os.getenv(\"BEARER_TOKEN\"), os.getenv(\"CONSUMER_KEY\"), os.getenv(\"CONSUMER_SECRET\"), os.getenv(\"ACCESS_TOKEN\"), os.getenv(\"ACCESS_TOKEN_SECRET\"))"
   ]
  },
  {
   "cell_type": "code",
   "execution_count": 2,
   "metadata": {},
   "outputs": [],
   "source": [
    "# request results for Tweet comparison, return timestamp\n",
    "results = api.compare_tweets([1612443577447026689, 1611301422364082180, 1612823288723476480], \n",
    "                             compare=[\"view_count\", \"common_liking_users\", \"distinct_liking_users\"], \n",
    "                             return_timestamp=True)\n",
    "# export to JSON file\n",
    "export_to_json(results, export_path=\"resources/compare_tweets.json\")"
   ]
  },
  {
   "cell_type": "code",
   "execution_count": 2,
   "metadata": {},
   "outputs": [],
   "source": [
    "# same with user information\n",
    "results = api.user_info(\"WWU_Muenster\", [\"id\", \"name\", \"followers_count\", \"friends_count\", \"favourites_count\"], return_timestamp=True)\n",
    "export_to_json(results, export_path=\"resources/user_info.json\")"
   ]
  },
  {
   "cell_type": "code",
   "execution_count": 3,
   "metadata": {},
   "outputs": [],
   "source": [
    "# same with Tweet information\n",
    "results = api.tweet_info(1612443577447026689, [\"id\", \"text\", \"created_at\", \"retweeters\", \"view_count\", \"retweet_count\", \"favorite_count\", \"quote_count\", \"reply_count\", \"lang\"], return_timestamp=True)\n",
    "export_to_json(results, export_path=\"resources/tweet_info.json\")"
   ]
  }
 ],
 "metadata": {
  "kernelspec": {
   "display_name": ".venv",
   "language": "python",
   "name": "python3"
  },
  "language_info": {
   "codemirror_mode": {
    "name": "ipython",
    "version": 3
   },
   "file_extension": ".py",
   "mimetype": "text/x-python",
   "name": "python",
   "nbconvert_exporter": "python",
   "pygments_lexer": "ipython3",
   "version": "3.10.0"
  },
  "orig_nbformat": 4,
  "vscode": {
   "interpreter": {
    "hash": "ed44555fa394b0c2229d53d90121f58c473627b0aabc94f1252421ca1f5860cb"
   }
  }
 },
 "nbformat": 4,
 "nbformat_minor": 2
}
