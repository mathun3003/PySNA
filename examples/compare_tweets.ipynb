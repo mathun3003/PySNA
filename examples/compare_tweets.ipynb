{
 "cells": [
  {
   "cell_type": "code",
   "execution_count": 1,
   "metadata": {},
   "outputs": [
    {
     "data": {
      "text/plain": [
       "True"
      ]
     },
     "execution_count": 1,
     "metadata": {},
     "output_type": "execute_result"
    }
   ],
   "source": [
    "import os\n",
    "from dotenv import load_dotenv\n",
    "# load envs\n",
    "load_dotenv(\"../local.env\")"
   ]
  },
  {
   "cell_type": "code",
   "execution_count": 2,
   "metadata": {},
   "outputs": [],
   "source": [
    "from pysna import TwitterAPI\n",
    "# init API instance\n",
    "api = TwitterAPI(os.getenv(\"BEARER_TOKEN\"), os.getenv(\"CONSUMER_KEY\"), os.getenv(\"CONSUMER_SECRET\"), os.getenv(\"ACCESS_TOKEN\"), os.getenv(\"ACCESS_TOKEN_SECRET\"))\n",
    "\n",
    "# Tweet IDs for observation\n",
    "tweet1 = 1612443577447026689\n",
    "tweet2 = 1611301422364082180\n",
    "tweet3 = 1612823288723476480"
   ]
  },
  {
   "cell_type": "code",
   "execution_count": 6,
   "metadata": {},
   "outputs": [
    {
     "data": {
      "text/plain": [
       "typing.Literal['view_count', 'like_count', 'retweet_count', 'quote_count', 'common_quoting_users', 'distinct_quoting_users', 'common_liking_users', 'distinct_liking_users', 'common_retweeters', 'distinct_retweets']"
      ]
     },
     "execution_count": 6,
     "metadata": {},
     "output_type": "execute_result"
    }
   ],
   "source": [
    "# available function parameters for 'compare_tweets()'\n",
    "api.LITERALS_COMPARE_TWEETS"
   ]
  },
  {
   "cell_type": "code",
   "execution_count": 8,
   "metadata": {},
   "outputs": [
    {
     "data": {
      "text/plain": [
       "{'common_liking_users': [3862364523]}"
      ]
     },
     "execution_count": 8,
     "metadata": {},
     "output_type": "execute_result"
    }
   ],
   "source": [
    "# get common liking users of specified Tweets\n",
    "api.compare_tweets(tweets=[tweet1, tweet2, tweet3], compare=\"common_liking_users\")"
   ]
  },
  {
   "cell_type": "code",
   "execution_count": 9,
   "metadata": {},
   "outputs": [
    {
     "data": {
      "text/plain": [
       "{'distinct_liking_users': {1612443577447026689: [1220310436912017408,\n",
       "   1252833729967386624,\n",
       "   1088774650128154624,\n",
       "   1052546131190865923,\n",
       "   943620557660213249,\n",
       "   1276629841920606214,\n",
       "   2863564907],\n",
       "  1611301422364082180: [1592399757997182976,\n",
       "   915913245629743105,\n",
       "   913414236000440320,\n",
       "   1237388491207536643,\n",
       "   1358912778338263042],\n",
       "  1612823288723476480: [1252140410325041152,\n",
       "   1264321095404060672,\n",
       "   1328780195185242116,\n",
       "   1397142844800966664]}}"
      ]
     },
     "execution_count": 9,
     "metadata": {},
     "output_type": "execute_result"
    }
   ],
   "source": [
    "# get distinct liking users of specified Tweets\n",
    "api.compare_tweets(tweets=[tweet1, tweet2, tweet3], compare=\"distinct_liking_users\")"
   ]
  },
  {
   "cell_type": "code",
   "execution_count": 10,
   "metadata": {},
   "outputs": [
    {
     "data": {
      "text/plain": [
       "{'common_quoting_users': []}"
      ]
     },
     "execution_count": 10,
     "metadata": {},
     "output_type": "execute_result"
    }
   ],
   "source": [
    "# get common quoting users of specified Tweets\n",
    "api.compare_tweets(tweets=[tweet1, tweet2, tweet3], compare=\"common_quoting_users\")"
   ]
  },
  {
   "cell_type": "code",
   "execution_count": 11,
   "metadata": {},
   "outputs": [
    {
     "data": {
      "text/plain": [
       "{'distinct_quoting_users': {1612443577447026689: [4343793689],\n",
       "  1611301422364082180: [],\n",
       "  1612823288723476480: []}}"
      ]
     },
     "execution_count": 11,
     "metadata": {},
     "output_type": "execute_result"
    }
   ],
   "source": [
    "# get distinct quoting users of specified Tweets\n",
    "api.compare_tweets(tweets=[tweet1, tweet2, tweet3], compare=\"distinct_quoting_users\")"
   ]
  },
  {
   "cell_type": "code",
   "execution_count": 12,
   "metadata": {},
   "outputs": [
    {
     "data": {
      "text/plain": [
       "{'common_retweeters': []}"
      ]
     },
     "execution_count": 12,
     "metadata": {},
     "output_type": "execute_result"
    }
   ],
   "source": [
    "# get common retweeters on specified Tweets\n",
    "api.compare_tweets(tweets=[tweet1, tweet2, tweet3], compare=\"common_retweeters\")"
   ]
  },
  {
   "cell_type": "code",
   "execution_count": 13,
   "metadata": {},
   "outputs": [
    {
     "data": {
      "text/plain": [
       "{'distinct_retweeters': {1612443577447026689: [],\n",
       "  1611301422364082180: [],\n",
       "  1612823288723476480: [2990134102]}}"
      ]
     },
     "execution_count": 13,
     "metadata": {},
     "output_type": "execute_result"
    }
   ],
   "source": [
    "# get distinct retweeters on specified Tweets\n",
    "api.compare_tweets(tweets=[tweet1, tweet2, tweet3], compare=\"distinct_retweeters\")"
   ]
  },
  {
   "cell_type": "code",
   "execution_count": 14,
   "metadata": {},
   "outputs": [
    {
     "data": {
      "text/plain": [
       "{'view_count': {1612443577447026689: 3278,\n",
       "  1611301422364082180: 1036,\n",
       "  1612823288723476480: 1122,\n",
       "  'metrics': {'max': 3278,\n",
       "   'min': 1036,\n",
       "   'mean': 1812.0,\n",
       "   'median': 1122.0,\n",
       "   'std': 1037.2129321728817,\n",
       "   'var': 1075810.6666666667,\n",
       "   'range': 2242,\n",
       "   'IQR': 1121.0,\n",
       "   'mad': 977.3333333333334}},\n",
       " 'like_count': {1612443577447026689: 13,\n",
       "  1611301422364082180: 9,\n",
       "  1612823288723476480: 9,\n",
       "  'metrics': {'max': 13,\n",
       "   'min': 9,\n",
       "   'mean': 10.333333333333334,\n",
       "   'median': 9.0,\n",
       "   'std': 1.8856180831641267,\n",
       "   'var': 3.555555555555556,\n",
       "   'range': 4,\n",
       "   'IQR': 2.0,\n",
       "   'mad': 1.777777777777778}},\n",
       " 'retweet_count': {1612443577447026689: 0,\n",
       "  1611301422364082180: 0,\n",
       "  1612823288723476480: 2,\n",
       "  'metrics': {'max': 2,\n",
       "   'min': 0,\n",
       "   'mean': 0.6666666666666666,\n",
       "   'median': 0.0,\n",
       "   'std': 0.9428090415820634,\n",
       "   'var': 0.888888888888889,\n",
       "   'range': 2,\n",
       "   'IQR': 1.0,\n",
       "   'mad': 0.888888888888889}},\n",
       " 'quote_count': {1612443577447026689: 1,\n",
       "  1611301422364082180: 0,\n",
       "  1612823288723476480: 0,\n",
       "  'metrics': {'max': 1,\n",
       "   'min': 0,\n",
       "   'mean': 0.3333333333333333,\n",
       "   'median': 0.0,\n",
       "   'std': 0.4714045207910317,\n",
       "   'var': 0.22222222222222224,\n",
       "   'range': 1,\n",
       "   'IQR': 0.5,\n",
       "   'mad': 0.4444444444444444}}}"
      ]
     },
     "execution_count": 14,
     "metadata": {},
     "output_type": "execute_result"
    }
   ],
   "source": [
    "# compare views, likes, retweets, and quotes of specified Tweets\n",
    "api.compare_tweets(tweets=[tweet1, tweet2, tweet3], compare=[\"view_count\", \"like_count\", \"retweet_count\", \"quote_count\"])"
   ]
  }
 ],
 "metadata": {
  "kernelspec": {
   "display_name": ".venv",
   "language": "python",
   "name": "python3"
  },
  "language_info": {
   "codemirror_mode": {
    "name": "ipython",
    "version": 3
   },
   "file_extension": ".py",
   "mimetype": "text/x-python",
   "name": "python",
   "nbconvert_exporter": "python",
   "pygments_lexer": "ipython3",
   "version": "3.10.0"
  },
  "orig_nbformat": 4,
  "vscode": {
   "interpreter": {
    "hash": "ed44555fa394b0c2229d53d90121f58c473627b0aabc94f1252421ca1f5860cb"
   }
  }
 },
 "nbformat": 4,
 "nbformat_minor": 2
}
