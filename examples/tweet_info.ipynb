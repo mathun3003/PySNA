{
 "cells": [
  {
   "cell_type": "code",
   "execution_count": 1,
   "metadata": {},
   "outputs": [
    {
     "data": {
      "text/plain": [
       "True"
      ]
     },
     "execution_count": 1,
     "metadata": {},
     "output_type": "execute_result"
    }
   ],
   "source": [
    "import os\n",
    "from dotenv import load_dotenv\n",
    "from typing import get_args\n",
    "\n",
    "from pysna.api import TwitterAPI\n",
    "\n",
    "# load envs\n",
    "load_dotenv(\"../local.env\")"
   ]
  },
  {
   "cell_type": "code",
   "execution_count": 2,
   "metadata": {},
   "outputs": [],
   "source": [
    "# init API instance\n",
    "api = TwitterAPI(os.getenv(\"BEARER_TOKEN\"), os.getenv(\"CONSUMER_KEY\"), os.getenv(\"CONSUMER_SECRET\"),\n",
    "                 os.getenv(\"ACCESS_TOKEN\"), os.getenv(\"ACCESS_TOKEN_SECRET\"))"
   ]
  },
  {
   "cell_type": "code",
   "execution_count": 11,
   "metadata": {},
   "outputs": [
    {
     "data": {
      "text/plain": [
       "typing.Literal['id', 'id_str', 'full_text', 'display_text_range', 'truncated', 'created_at', 'entities', 'tweet_annotations', 'source', 'retweeters', 'in_reply_to_status_id', 'in_reply_to_status_id_str', 'in_reply_to_user_id', 'in_reply_to_user_id_str', 'in_reply_to_screen_name', 'user', 'contributors', 'coordinates', 'place', 'is_quote_status', 'public_metrics', 'quoting_users', 'liking_users', 'favorited', 'retweeted', 'retweeted_status', 'possibly_sensitive', 'lang', 'sentiment']"
      ]
     },
     "execution_count": 11,
     "metadata": {},
     "output_type": "execute_result"
    }
   ],
   "source": [
    "# available attributes for 'tweet_info()'\n",
    "api.LITERALS_TWEET_INFO"
   ]
  },
  {
   "cell_type": "code",
   "execution_count": 5,
   "metadata": {},
   "outputs": [
    {
     "data": {
      "text/plain": [
       "{'id': 1612443577447026689,\n",
       " 'id_str': '1612443577447026689',\n",
       " 'full_text': 'Dr. Charlotte Teschers hat im Rahmen ihrer Doktorarbeit bei Prof. Dr. Ryan Gilmour am Organisch-Chemischen Institut eine neue Methode entwickelt, um komplexe, fluorierte Zucker herzustellen. Im Gespräch stellt sie das Projekt vor. @GilmourLab https://t.co/LelKFNTEtM',\n",
       " 'display_text_range': [0, 266],\n",
       " 'truncated': False,\n",
       " 'created_at': 'Mon Jan 09 13:38:01 +0000 2023',\n",
       " 'entities': {'hashtags': [],\n",
       "  'symbols': [],\n",
       "  'user_mentions': [{'screen_name': 'GilmourLab',\n",
       "    'name': 'GilmourLab',\n",
       "    'id': 1052546131190865923,\n",
       "    'id_str': '1052546131190865923',\n",
       "    'indices': [231, 242]}],\n",
       "  'urls': [{'url': 'https://t.co/LelKFNTEtM',\n",
       "    'expanded_url': 'https://www.uni-muenster.de/news/view.php?cmdid=13046',\n",
       "    'display_url': 'uni-muenster.de/news/view.php?…',\n",
       "    'indices': [243, 266]}]},\n",
       " 'tweet_annotations': {'entities': {'mentions': [{'start': 231,\n",
       "     'end': 242,\n",
       "     'username': 'GilmourLab',\n",
       "     'id': '1052546131190865923'}],\n",
       "   'urls': [{'start': 243,\n",
       "     'end': 266,\n",
       "     'url': 'https://t.co/LelKFNTEtM',\n",
       "     'expanded_url': 'https://www.uni-muenster.de/news/view.php?cmdid=13046',\n",
       "     'display_url': 'uni-muenster.de/news/view.php?…',\n",
       "     'images': [{'url': 'https://pbs.twimg.com/news_img/1612440385170837505/SST3n5Lx?format=jpg&name=orig',\n",
       "       'width': 750,\n",
       "       'height': 375},\n",
       "      {'url': 'https://pbs.twimg.com/news_img/1612440385170837505/SST3n5Lx?format=jpg&name=150x150',\n",
       "       'width': 150,\n",
       "       'height': 150}],\n",
       "     'status': 200,\n",
       "     'title': '„Es war viel Mühe, bis ich die Reaktionen kontrollieren konnte“',\n",
       "     'description': 'Dr. Charlotte Teschers hat im Rahmen ihrer Doktorarbeit bei Prof. Dr. Ryan Gilmour am Organisch-Chemischen Institut eine neue Methode entwickelt, um komplexe, fluorierte Zucker herzustellen. Im Gespräch mit Christina Hoppenbrock stellt sie das Projekt vor.',\n",
       "     'unwound_url': 'https://www.uni-muenster.de/news/view.php?cmdid=13046'}]},\n",
       "  'text': 'Dr. Charlotte Teschers hat im Rahmen ihrer Doktorarbeit bei Prof. Dr. Ryan Gilmour am Organisch-Chemischen Institut eine neue Methode entwickelt, um komplexe, fluorierte Zucker herzustellen. Im Gespräch stellt sie das Projekt vor. @GilmourLab https://t.co/LelKFNTEtM',\n",
       "  'edit_history_tweet_ids': ['1612443577447026689'],\n",
       "  'id': '1612443577447026689'},\n",
       " 'source': '<a href=\"https://mobile.twitter.com\" rel=\"nofollow\">Twitter Web App</a>',\n",
       " 'retweeters': [],\n",
       " 'in_reply_to_status_id': None,\n",
       " 'in_reply_to_status_id_str': None,\n",
       " 'in_reply_to_user_id': None,\n",
       " 'in_reply_to_user_id_str': None,\n",
       " 'in_reply_to_screen_name': None,\n",
       " 'user': {'id': 24677217,\n",
       "  'id_str': '24677217',\n",
       "  'name': 'Universität Münster',\n",
       "  'screen_name': 'WWU_Muenster',\n",
       "  'location': 'Münster',\n",
       "  'description': 'Offizieller Account der Westfälischen Wilhelms-Universität (WWU) Münster; Impressum: https://t.co/fBVsIGm9ul\\nDatenschutzhinweis: https://t.co/D8sgtD5Viv',\n",
       "  'url': 'http://t.co/aVa4cxjJjF',\n",
       "  'entities': {'url': {'urls': [{'url': 'http://t.co/aVa4cxjJjF',\n",
       "      'expanded_url': 'http://www.uni-muenster.de',\n",
       "      'display_url': 'uni-muenster.de',\n",
       "      'indices': [0, 22]}]},\n",
       "   'description': {'urls': [{'url': 'https://t.co/fBVsIGm9ul',\n",
       "      'expanded_url': 'http://bit.ly/1i6z6MG',\n",
       "      'display_url': 'bit.ly/1i6z6MG',\n",
       "      'indices': [85, 108]},\n",
       "     {'url': 'https://t.co/D8sgtD5Viv',\n",
       "      'expanded_url': 'http://go.wwu.de/g8thq',\n",
       "      'display_url': 'go.wwu.de/g8thq',\n",
       "      'indices': [129, 152]}]}},\n",
       "  'protected': False,\n",
       "  'followers_count': 20206,\n",
       "  'friends_count': 1787,\n",
       "  'listed_count': 418,\n",
       "  'created_at': 'Mon Mar 16 11:19:30 +0000 2009',\n",
       "  'favourites_count': 3017,\n",
       "  'utc_offset': None,\n",
       "  'time_zone': None,\n",
       "  'geo_enabled': False,\n",
       "  'verified': False,\n",
       "  'statuses_count': 11688,\n",
       "  'lang': None,\n",
       "  'contributors_enabled': False,\n",
       "  'is_translator': False,\n",
       "  'is_translation_enabled': False,\n",
       "  'profile_background_color': 'B1CA00',\n",
       "  'profile_background_image_url': 'http://abs.twimg.com/images/themes/theme1/bg.png',\n",
       "  'profile_background_image_url_https': 'https://abs.twimg.com/images/themes/theme1/bg.png',\n",
       "  'profile_background_tile': False,\n",
       "  'profile_image_url': 'http://pbs.twimg.com/profile_images/1194181758142599169/Sg3jktwJ_normal.jpg',\n",
       "  'profile_image_url_https': 'https://pbs.twimg.com/profile_images/1194181758142599169/Sg3jktwJ_normal.jpg',\n",
       "  'profile_banner_url': 'https://pbs.twimg.com/profile_banners/24677217/1398255422',\n",
       "  'profile_link_color': '009DD1',\n",
       "  'profile_sidebar_border_color': 'FFFFFF',\n",
       "  'profile_sidebar_fill_color': 'FFFFFF',\n",
       "  'profile_text_color': '000000',\n",
       "  'profile_use_background_image': False,\n",
       "  'has_extended_profile': False,\n",
       "  'default_profile': False,\n",
       "  'default_profile_image': False,\n",
       "  'following': None,\n",
       "  'follow_request_sent': None,\n",
       "  'notifications': None,\n",
       "  'translator_type': 'none',\n",
       "  'withheld_in_countries': []},\n",
       " 'contributors': None,\n",
       " 'coordinates': None,\n",
       " 'place': None,\n",
       " 'is_quote_status': False,\n",
       " 'public_metrics': {'retweet_count': 0,\n",
       "  'reply_count': 0,\n",
       "  'like_count': 13,\n",
       "  'quote_count': 1,\n",
       "  'impression_count': 3390},\n",
       " 'quoting_users': [],\n",
       " 'liking_users': [3232431149,\n",
       "  1276629841920606214,\n",
       "  1052546131190865923,\n",
       "  2863564907,\n",
       "  1220310436912017408,\n",
       "  1252833729967386624,\n",
       "  943620557660213249,\n",
       "  1494700331585921042,\n",
       "  1088774650128154624,\n",
       "  3862364523],\n",
       " 'favorited': False,\n",
       " 'retweeted': False,\n",
       " 'retweeted_status': None,\n",
       " 'possibly_sensitive': False,\n",
       " 'lang': 'de',\n",
       " 'sentiment': {'label': 'neutral',\n",
       "  'polarity_scores': {'neg': 0.0, 'neu': 1.0, 'pos': 0.0, 'compound': 0.0}},\n",
       " 'utc_timestamp': '2023-02-23 15:08:56.587456'}"
      ]
     },
     "execution_count": 5,
     "metadata": {},
     "output_type": "execute_result"
    }
   ],
   "source": [
    "# request available attributes for specified Tweet\n",
    "api.tweet_info(1612443577447026689, \n",
    "               get_args(api.LITERALS_TWEET_INFO),\n",
    "               return_timestamp=True)"
   ]
  }
 ],
 "metadata": {
  "kernelspec": {
   "display_name": ".venv",
   "language": "python",
   "name": "python3"
  },
  "language_info": {
   "codemirror_mode": {
    "name": "ipython",
    "version": 3
   },
   "file_extension": ".py",
   "mimetype": "text/x-python",
   "name": "python",
   "nbconvert_exporter": "python",
   "pygments_lexer": "ipython3",
   "version": "3.10.0"
  },
  "orig_nbformat": 4,
  "vscode": {
   "interpreter": {
    "hash": "ed44555fa394b0c2229d53d90121f58c473627b0aabc94f1252421ca1f5860cb"
   }
  }
 },
 "nbformat": 4,
 "nbformat_minor": 2
}
