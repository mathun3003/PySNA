{
 "cells": [
  {
   "cell_type": "code",
   "execution_count": 3,
   "metadata": {},
   "outputs": [
    {
     "data": {
      "text/plain": [
       "True"
      ]
     },
     "execution_count": 3,
     "metadata": {},
     "output_type": "execute_result"
    }
   ],
   "source": [
    "import os\n",
    "from dotenv import load_dotenv\n",
    "from typing import get_args\n",
    "\n",
    "from pysna.api import TwitterAPI\n",
    "\n",
    "# load envs\n",
    "load_dotenv(\"../local.env\")"
   ]
  },
  {
   "cell_type": "code",
   "execution_count": 4,
   "metadata": {},
   "outputs": [],
   "source": [
    "# init API instance\n",
    "api = TwitterAPI(os.getenv(\"BEARER_TOKEN\"), os.getenv(\"CONSUMER_KEY\"), os.getenv(\"CONSUMER_SECRET\"),\n",
    "                 os.getenv(\"ACCESS_TOKEN\"), os.getenv(\"ACCESS_TOKEN_SECRET\"))"
   ]
  },
  {
   "cell_type": "code",
   "execution_count": 8,
   "metadata": {},
   "outputs": [
    {
     "data": {
      "text/plain": [
       "typing.Literal['id', 'id_str', 'text', 'truncated', 'created_at', 'entities', 'source', 'author_info', 'retweeters', 'in_reply_to_status_id', 'in_reply_to_status_id_str', 'in_reply_to_user_id', 'in_reply_to_user_id_str', 'in_reply_to_screen_name', 'user', 'geo', 'coordinates', 'place', 'contributors', 'is_quote_status', 'view_count', 'retweet_count', 'favorite_count', 'quote_count', 'reply_count', 'quoting_users', 'favorited', 'retweeted', 'possibly_sensitive', 'possibly_sensitive_appealable', 'lang']"
      ]
     },
     "execution_count": 8,
     "metadata": {},
     "output_type": "execute_result"
    }
   ],
   "source": [
    "# available attributes for 'tweet_info()'\n",
    "api.LITERALS_TWEET_INFO"
   ]
  },
  {
   "cell_type": "code",
   "execution_count": 13,
   "metadata": {},
   "outputs": [
    {
     "data": {
      "text/plain": [
       "{'id': 1612443577447026689,\n",
       " 'id_str': '1612443577447026689',\n",
       " 'text': 'Dr. Charlotte Teschers hat im Rahmen ihrer Doktorarbeit bei Prof. Dr. Ryan Gilmour am Organisch-Chemischen Institut… https://t.co/8uJuNqk7Ew',\n",
       " 'truncated': True,\n",
       " 'created_at': 'Mon Jan 09 13:38:01 +0000 2023',\n",
       " 'entities': {'hashtags': [],\n",
       "  'symbols': [],\n",
       "  'user_mentions': [],\n",
       "  'urls': [{'url': 'https://t.co/8uJuNqk7Ew',\n",
       "    'expanded_url': 'https://twitter.com/i/web/status/1612443577447026689',\n",
       "    'display_url': 'twitter.com/i/web/status/1…',\n",
       "    'indices': [117, 140]}]},\n",
       " 'source': '<a href=\"https://mobile.twitter.com\" rel=\"nofollow\">Twitter Web App</a>',\n",
       " 'author_info': {'id': 24677217,\n",
       "  'id_str': '24677217',\n",
       "  'name': 'Universität Münster',\n",
       "  'screen_name': 'WWU_Muenster',\n",
       "  'location': 'Münster',\n",
       "  'description': 'Offizieller Account der Westfälischen Wilhelms-Universität (WWU) Münster; Impressum: https://t.co/fBVsIGm9ul\\nDatenschutzhinweis: https://t.co/D8sgtD5Viv',\n",
       "  'url': 'http://t.co/aVa4cxjJjF',\n",
       "  'entities': {'url': {'urls': [{'url': 'http://t.co/aVa4cxjJjF',\n",
       "      'expanded_url': 'http://www.uni-muenster.de',\n",
       "      'display_url': 'uni-muenster.de',\n",
       "      'indices': [0, 22]}]},\n",
       "   'description': {'urls': [{'url': 'https://t.co/fBVsIGm9ul',\n",
       "      'expanded_url': 'http://bit.ly/1i6z6MG',\n",
       "      'display_url': 'bit.ly/1i6z6MG',\n",
       "      'indices': [85, 108]},\n",
       "     {'url': 'https://t.co/D8sgtD5Viv',\n",
       "      'expanded_url': 'http://go.wwu.de/g8thq',\n",
       "      'display_url': 'go.wwu.de/g8thq',\n",
       "      'indices': [129, 152]}]}},\n",
       "  'protected': False,\n",
       "  'followers_count': 20056,\n",
       "  'friends_count': 1788,\n",
       "  'listed_count': 413,\n",
       "  'created_at': 'Mon Mar 16 11:19:30 +0000 2009',\n",
       "  'favourites_count': 2976,\n",
       "  'utc_offset': None,\n",
       "  'time_zone': None,\n",
       "  'geo_enabled': False,\n",
       "  'verified': False,\n",
       "  'statuses_count': 11625,\n",
       "  'lang': None,\n",
       "  'contributors_enabled': False,\n",
       "  'is_translator': False,\n",
       "  'is_translation_enabled': False,\n",
       "  'profile_background_color': 'B1CA00',\n",
       "  'profile_background_image_url': 'http://abs.twimg.com/images/themes/theme1/bg.png',\n",
       "  'profile_background_image_url_https': 'https://abs.twimg.com/images/themes/theme1/bg.png',\n",
       "  'profile_background_tile': False,\n",
       "  'profile_image_url': 'http://pbs.twimg.com/profile_images/1194181758142599169/Sg3jktwJ_normal.jpg',\n",
       "  'profile_image_url_https': 'https://pbs.twimg.com/profile_images/1194181758142599169/Sg3jktwJ_normal.jpg',\n",
       "  'profile_banner_url': 'https://pbs.twimg.com/profile_banners/24677217/1398255422',\n",
       "  'profile_link_color': '009DD1',\n",
       "  'profile_sidebar_border_color': 'FFFFFF',\n",
       "  'profile_sidebar_fill_color': 'FFFFFF',\n",
       "  'profile_text_color': '000000',\n",
       "  'profile_use_background_image': False,\n",
       "  'has_extended_profile': False,\n",
       "  'default_profile': False,\n",
       "  'default_profile_image': False,\n",
       "  'following': None,\n",
       "  'follow_request_sent': None,\n",
       "  'notifications': None,\n",
       "  'translator_type': 'none',\n",
       "  'withheld_in_countries': []},\n",
       " 'retweeters': [],\n",
       " 'in_reply_to_status_id': None,\n",
       " 'in_reply_to_status_id_str': None,\n",
       " 'in_reply_to_user_id': None,\n",
       " 'in_reply_to_user_id_str': None,\n",
       " 'in_reply_to_screen_name': None,\n",
       " 'user': {'id': 24677217,\n",
       "  'id_str': '24677217',\n",
       "  'name': 'Universität Münster',\n",
       "  'screen_name': 'WWU_Muenster',\n",
       "  'location': 'Münster',\n",
       "  'description': 'Offizieller Account der Westfälischen Wilhelms-Universität (WWU) Münster; Impressum: https://t.co/fBVsIGm9ul\\nDatenschutzhinweis: https://t.co/D8sgtD5Viv',\n",
       "  'url': 'http://t.co/aVa4cxjJjF',\n",
       "  'entities': {'url': {'urls': [{'url': 'http://t.co/aVa4cxjJjF',\n",
       "      'expanded_url': 'http://www.uni-muenster.de',\n",
       "      'display_url': 'uni-muenster.de',\n",
       "      'indices': [0, 22]}]},\n",
       "   'description': {'urls': [{'url': 'https://t.co/fBVsIGm9ul',\n",
       "      'expanded_url': 'http://bit.ly/1i6z6MG',\n",
       "      'display_url': 'bit.ly/1i6z6MG',\n",
       "      'indices': [85, 108]},\n",
       "     {'url': 'https://t.co/D8sgtD5Viv',\n",
       "      'expanded_url': 'http://go.wwu.de/g8thq',\n",
       "      'display_url': 'go.wwu.de/g8thq',\n",
       "      'indices': [129, 152]}]}},\n",
       "  'protected': False,\n",
       "  'followers_count': 20056,\n",
       "  'friends_count': 1788,\n",
       "  'listed_count': 413,\n",
       "  'created_at': 'Mon Mar 16 11:19:30 +0000 2009',\n",
       "  'favourites_count': 2976,\n",
       "  'utc_offset': None,\n",
       "  'time_zone': None,\n",
       "  'geo_enabled': False,\n",
       "  'verified': False,\n",
       "  'statuses_count': 11625,\n",
       "  'lang': None,\n",
       "  'contributors_enabled': False,\n",
       "  'is_translator': False,\n",
       "  'is_translation_enabled': False,\n",
       "  'profile_background_color': 'B1CA00',\n",
       "  'profile_background_image_url': 'http://abs.twimg.com/images/themes/theme1/bg.png',\n",
       "  'profile_background_image_url_https': 'https://abs.twimg.com/images/themes/theme1/bg.png',\n",
       "  'profile_background_tile': False,\n",
       "  'profile_image_url': 'http://pbs.twimg.com/profile_images/1194181758142599169/Sg3jktwJ_normal.jpg',\n",
       "  'profile_image_url_https': 'https://pbs.twimg.com/profile_images/1194181758142599169/Sg3jktwJ_normal.jpg',\n",
       "  'profile_banner_url': 'https://pbs.twimg.com/profile_banners/24677217/1398255422',\n",
       "  'profile_link_color': '009DD1',\n",
       "  'profile_sidebar_border_color': 'FFFFFF',\n",
       "  'profile_sidebar_fill_color': 'FFFFFF',\n",
       "  'profile_text_color': '000000',\n",
       "  'profile_use_background_image': False,\n",
       "  'has_extended_profile': False,\n",
       "  'default_profile': False,\n",
       "  'default_profile_image': False,\n",
       "  'following': None,\n",
       "  'follow_request_sent': None,\n",
       "  'notifications': None,\n",
       "  'translator_type': 'none',\n",
       "  'withheld_in_countries': []},\n",
       " 'geo': None,\n",
       " 'coordinates': None,\n",
       " 'place': None,\n",
       " 'contributors': None,\n",
       " 'is_quote_status': False,\n",
       " 'view_count': 3278,\n",
       " 'retweet_count': 0,\n",
       " 'favorite_count': 13,\n",
       " 'quote_count': 1,\n",
       " 'reply_count': 0,\n",
       " 'quoting_users': [4343793689],\n",
       " 'favorited': False,\n",
       " 'retweeted': False,\n",
       " 'possibly_sensitive': False,\n",
       " 'possibly_sensitive_appealable': False,\n",
       " 'lang': 'de',\n",
       " 'utc_timestamp': '2023-01-23 10:17:56.692599'}"
      ]
     },
     "execution_count": 13,
     "metadata": {},
     "output_type": "execute_result"
    }
   ],
   "source": [
    "# request available attributes for specified Tweet\n",
    "api.tweet_info(1612443577447026689, \n",
    "               ['id', 'id_str', 'text', 'truncated', 'created_at', 'entities', 'source', 'author_info', 'retweeters', 'in_reply_to_status_id', 'in_reply_to_status_id_str', 'in_reply_to_user_id', 'in_reply_to_user_id_str', 'in_reply_to_screen_name', 'user', 'geo', 'coordinates', 'place', 'contributors', 'is_quote_status', 'view_count', 'retweet_count', 'favorite_count', 'quote_count', 'reply_count', 'quoting_users', 'favorited', 'retweeted', 'possibly_sensitive', 'possibly_sensitive_appealable', 'lang'],\n",
    "               return_timestamp=True)"
   ]
  }
 ],
 "metadata": {
  "kernelspec": {
   "display_name": ".venv",
   "language": "python",
   "name": "python3"
  },
  "language_info": {
   "codemirror_mode": {
    "name": "ipython",
    "version": 3
   },
   "file_extension": ".py",
   "mimetype": "text/x-python",
   "name": "python",
   "nbconvert_exporter": "python",
   "pygments_lexer": "ipython3",
   "version": "3.10.0 (tags/v3.10.0:b494f59, Oct  4 2021, 19:00:18) [MSC v.1929 64 bit (AMD64)]"
  },
  "orig_nbformat": 4,
  "vscode": {
   "interpreter": {
    "hash": "645bf1517ca72a79a533be0bf333be8252d202c7c0eef9a8cc060f3ddca7d451"
   }
  }
 },
 "nbformat": 4,
 "nbformat_minor": 2
}
