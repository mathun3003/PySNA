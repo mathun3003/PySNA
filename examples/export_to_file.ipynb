{
 "cells": [
  {
   "cell_type": "code",
   "execution_count": 1,
   "metadata": {},
   "outputs": [],
   "source": [
    "import os\n",
    "from dotenv import load_dotenv\n",
    "from pysna import *\n",
    "\n",
    "load_dotenv(\"../local.env\")\n",
    "\n",
    "api = TwitterAPI(os.getenv(\"BEARER_TOKEN\"), os.getenv(\"CONSUMER_KEY\"), os.getenv(\"CONSUMER_SECRET\"), os.getenv(\"ACCESS_TOKEN\"), os.getenv(\"ACCESS_TOKEN_SECRET\"))"
   ]
  },
  {
   "cell_type": "code",
   "execution_count": 2,
   "metadata": {},
   "outputs": [],
   "source": [
    "results = api.compare_tweets([1612443577447026689, 1611301422364082180, 1612823288723476480], \n",
    "                             compare=[\"view_count\", \"common_liking_users\", \"distinct_liking_users\"], \n",
    "                             return_timestamp=True)"
   ]
  },
  {
   "cell_type": "code",
   "execution_count": 3,
   "metadata": {},
   "outputs": [],
   "source": [
    "export_to_file(results, export_path=\"resources/compare_tweets.json\", type='json')"
   ]
  }
 ],
 "metadata": {
  "kernelspec": {
   "display_name": ".venv",
   "language": "python",
   "name": "python3"
  },
  "language_info": {
   "codemirror_mode": {
    "name": "ipython",
    "version": 3
   },
   "file_extension": ".py",
   "mimetype": "text/x-python",
   "name": "python",
   "nbconvert_exporter": "python",
   "pygments_lexer": "ipython3",
   "version": "3.10.0"
  },
  "orig_nbformat": 4,
  "vscode": {
   "interpreter": {
    "hash": "645bf1517ca72a79a533be0bf333be8252d202c7c0eef9a8cc060f3ddca7d451"
   }
  }
 },
 "nbformat": 4,
 "nbformat_minor": 2
}
